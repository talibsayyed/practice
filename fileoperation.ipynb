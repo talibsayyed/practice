{
 "cells": [
  {
   "cell_type": "markdown",
   "metadata": {},
   "source": [
    "### File Operations Read and Write Files\n",
    "\n",
    "File handling is a crucial part of any programming language. Python provides Built-in functions and methods to read from and write to files, both text and binary. This lesson will cover the basics of file handling, including reading and writing text files and binary files."
   ]
  },
  {
   "cell_type": "code",
   "execution_count": 1,
   "metadata": {},
   "outputs": [
    {
     "name": "stdout",
     "output_type": "stream",
     "text": [
      "Hello how are you??\n",
      "kya bolti public\n"
     ]
    }
   ],
   "source": [
    "# Read a whole file\n",
    "with open('source.txt','r') as file:\n",
    "    content = file.read()\n",
    "    print(content)"
   ]
  },
  {
   "cell_type": "code",
   "execution_count": 4,
   "metadata": {},
   "outputs": [
    {
     "name": "stdout",
     "output_type": "stream",
     "text": [
      "Hello how are you??\n",
      "\n",
      "kya bolti public\n"
     ]
    }
   ],
   "source": [
    "## Read a file line by line\n",
    "with open('source.txt','r') as file:\n",
    "    for line in file:\n",
    "        print(line)"
   ]
  },
  {
   "cell_type": "code",
   "execution_count": 5,
   "metadata": {},
   "outputs": [
    {
     "name": "stdout",
     "output_type": "stream",
     "text": [
      "Hello how are you??\n",
      "kya bolti public\n"
     ]
    }
   ],
   "source": [
    "with open('source.txt','r') as file:\n",
    "    for line in file:\n",
    "        print(line.strip()) #strip() operation removes the newline character"
   ]
  },
  {
   "cell_type": "code",
   "execution_count": 6,
   "metadata": {},
   "outputs": [],
   "source": [
    "#writing a file\n",
    "with open('source.txt','w') as file: #(w = write mode)\n",
    "    file.write('Hello world!\\n this is me')"
   ]
  },
  {
   "cell_type": "code",
   "execution_count": 9,
   "metadata": {},
   "outputs": [
    {
     "name": "stdout",
     "output_type": "stream",
     "text": [
      "Hello world!\n",
      " this is me\n"
     ]
    }
   ],
   "source": [
    "with open('source.txt','r') as file:\n",
    "    print(file.read())\n",
    "\n",
    "#All the contents have been replaced coz we have opened in write mode so it is considered as empty and everything got replaced"
   ]
  },
  {
   "cell_type": "code",
   "execution_count": 17,
   "metadata": {},
   "outputs": [],
   "source": [
    "#Write a file without overwriting\n",
    "with open('destination.txt','a') as file: #(a =append mode)\n",
    "    file.write('So here is the line\\nHere is the another line\\n')"
   ]
  },
  {
   "cell_type": "code",
   "execution_count": 19,
   "metadata": {},
   "outputs": [],
   "source": [
    "#Writing a list of lines to a file\n",
    "lines=['First line \\n','second line \\n','third line \\n']\n",
    "\n",
    "with open('source.txt','a') as file:\n",
    "    file.writelines(lines)\n",
    "    "
   ]
  },
  {
   "cell_type": "code",
   "execution_count": 21,
   "metadata": {},
   "outputs": [],
   "source": [
    "### Binary files\n",
    "\n",
    "## Writing to a binary file \n",
    "data = b'\\x00\\x01\\x02\\x03\\x04'\n",
    "\n",
    "with open('example.bin','wb') as file: #(wb=Write Byte mode)\n",
    "    file.write(data)\n"
   ]
  },
  {
   "cell_type": "code",
   "execution_count": 22,
   "metadata": {},
   "outputs": [
    {
     "name": "stdout",
     "output_type": "stream",
     "text": [
      "b'\\x00\\x01\\x02\\x03\\x04'\n"
     ]
    }
   ],
   "source": [
    "## Reading a binary file\n",
    "\n",
    "with open('example.bin','rb') as file:\n",
    "    content=file.read()\n",
    "    print(content)"
   ]
  },
  {
   "cell_type": "code",
   "execution_count": 23,
   "metadata": {},
   "outputs": [],
   "source": [
    "# Read the contents from a source text file and write it to a destination text file\n",
    "with open('source.txt','r') as file:\n",
    "    contents=file.read()\n",
    "\n",
    "with open('destination.txt','w') as desti_file:\n",
    "    desti_file.write(contents)"
   ]
  },
  {
   "cell_type": "code",
   "execution_count": 25,
   "metadata": {},
   "outputs": [
    {
     "name": "stdout",
     "output_type": "stream",
     "text": [
      "Lines: 7, Words: 37, characters: 199\n"
     ]
    }
   ],
   "source": [
    "# Read a text file and count the number of lines,words and characters\n",
    "\n",
    "def count_text_file(file_path):\n",
    "    with open (file_path,'r') as file:\n",
    "        lines=file.readlines()\n",
    "        line_count = len(lines)\n",
    "        word_count = sum(len(line.split()) for line in lines)\n",
    "        char_count = sum(len(line) for line in lines)   \n",
    "    return line_count, word_count, char_count\n",
    "\n",
    "file_path = 'destination.txt'\n",
    "lines, words, characters = count_text_file(file_path)\n",
    "print(f'Lines: {lines}, Words: {words}, characters: {characters}')"
   ]
  },
  {
   "cell_type": "code",
   "execution_count": 31,
   "metadata": {},
   "outputs": [
    {
     "name": "stdout",
     "output_type": "stream",
     "text": [
      "Hey hello public\n",
      "This is a new file\n"
     ]
    }
   ],
   "source": [
    "## Writing and then reading a file\n",
    "\n",
    "## The W+ mode in python is used to open a file for both reading and writing. If the file does not exist it will be created\n",
    "# And if the file exists its contents are truncated (i.e the file is overwritten)\n",
    "\n",
    "with open ('example.txt','w+') as file:\n",
    "    file.write('Hey hello public\\n')\n",
    "    file.write('This is a new file')\n",
    "    \n",
    "    ## move the file cursor to the beginning \n",
    "    file.seek(0)\n",
    "    #Read the contents of the file \n",
    "    cont=file.read()\n",
    "    print(cont)"
   ]
  },
  {
   "cell_type": "code",
   "execution_count": null,
   "metadata": {},
   "outputs": [],
   "source": []
  }
 ],
 "metadata": {
  "kernelspec": {
   "display_name": "base",
   "language": "python",
   "name": "python3"
  },
  "language_info": {
   "codemirror_mode": {
    "name": "ipython",
    "version": 3
   },
   "file_extension": ".py",
   "mimetype": "text/x-python",
   "name": "python",
   "nbconvert_exporter": "python",
   "pygments_lexer": "ipython3",
   "version": "3.11.7"
  }
 },
 "nbformat": 4,
 "nbformat_minor": 2
}
