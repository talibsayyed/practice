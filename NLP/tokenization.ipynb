{
 "cells": [
  {
   "cell_type": "code",
   "execution_count": 18,
   "metadata": {},
   "outputs": [],
   "source": [
    "corpus = \"\"\"Hello Welcome, to talib sayyed's program about NLP Tutorials.\n",
    "talib is expert in every tech. I am sure!! you will get to learn lot many things from him\n",
    "\"\"\""
   ]
  },
  {
   "cell_type": "code",
   "execution_count": 19,
   "metadata": {},
   "outputs": [
    {
     "name": "stdout",
     "output_type": "stream",
     "text": [
      "Hello Welcome, to talib sayyed's program about NLP Tutorials.\n",
      "talib is expert in every tech. I am sure!! you will get to learn lot many things from him\n",
      "\n"
     ]
    }
   ],
   "source": [
    "print(corpus)"
   ]
  },
  {
   "cell_type": "code",
   "execution_count": 20,
   "metadata": {},
   "outputs": [
    {
     "name": "stderr",
     "output_type": "stream",
     "text": [
      "[nltk_data] Downloading package punkt to\n",
      "[nltk_data]     C:\\Users\\Admin\\AppData\\Roaming\\nltk_data...\n",
      "[nltk_data]   Package punkt is already up-to-date!\n"
     ]
    },
    {
     "data": {
      "text/plain": [
       "True"
      ]
     },
     "execution_count": 20,
     "metadata": {},
     "output_type": "execute_result"
    }
   ],
   "source": [
    "## Tokenization\n",
    "# paragraph to sentences\n",
    "import nltk\n",
    "nltk.download('punkt')\n"
   ]
  },
  {
   "cell_type": "code",
   "execution_count": 21,
   "metadata": {},
   "outputs": [],
   "source": [
    "documents=sent_tokenize(corpus)"
   ]
  },
  {
   "cell_type": "code",
   "execution_count": 22,
   "metadata": {},
   "outputs": [
    {
     "name": "stdout",
     "output_type": "stream",
     "text": [
      "[\"Hello Welcome, to talib sayyed's program about NLP Tutorials.\", 'talib is expert in every tech.', 'I am sure!!', 'you will get to learn lot many things from him']\n"
     ]
    }
   ],
   "source": [
    "print(documents)"
   ]
  },
  {
   "cell_type": "code",
   "execution_count": 27,
   "metadata": {},
   "outputs": [
    {
     "name": "stdout",
     "output_type": "stream",
     "text": [
      "Hello Welcome, to talib sayyed's program about NLP Tutorials.\n",
      "talib is expert in every tech.\n",
      "I am sure!!\n",
      "you will get to learn lot many things from him\n"
     ]
    }
   ],
   "source": [
    "for sent in documents:\n",
    "    print(sent)"
   ]
  },
  {
   "cell_type": "code",
   "execution_count": 24,
   "metadata": {},
   "outputs": [],
   "source": [
    "# Tokenization\n",
    "# Paragraphs --> Words\n",
    "# Sentences --> Words\n",
    "from nltk.tokenize import word_tokenize\n",
    "words=word_tokenize(corpus)"
   ]
  },
  {
   "cell_type": "code",
   "execution_count": 25,
   "metadata": {},
   "outputs": [
    {
     "name": "stdout",
     "output_type": "stream",
     "text": [
      "Hello\n",
      "Welcome\n",
      ",\n",
      "to\n",
      "talib\n",
      "sayyed\n",
      "'s\n",
      "program\n",
      "about\n",
      "NLP\n",
      "Tutorials\n",
      ".\n",
      "talib\n",
      "is\n",
      "expert\n",
      "in\n",
      "every\n",
      "tech\n",
      ".\n",
      "I\n",
      "am\n",
      "sure\n",
      "!\n",
      "!\n",
      "you\n",
      "will\n",
      "get\n",
      "to\n",
      "learn\n",
      "lot\n",
      "many\n",
      "things\n",
      "from\n",
      "him\n"
     ]
    }
   ],
   "source": [
    "for word in words:\n",
    "    print(word)"
   ]
  },
  {
   "cell_type": "code",
   "execution_count": 28,
   "metadata": {},
   "outputs": [],
   "source": [
    "from nltk.tokenize import wordpunct_tokenize"
   ]
  },
  {
   "cell_type": "code",
   "execution_count": 29,
   "metadata": {},
   "outputs": [
    {
     "data": {
      "text/plain": [
       "['Hello',\n",
       " 'Welcome',\n",
       " ',',\n",
       " 'to',\n",
       " 'talib',\n",
       " 'sayyed',\n",
       " \"'\",\n",
       " 's',\n",
       " 'program',\n",
       " 'about',\n",
       " 'NLP',\n",
       " 'Tutorials',\n",
       " '.',\n",
       " 'talib',\n",
       " 'is',\n",
       " 'expert',\n",
       " 'in',\n",
       " 'every',\n",
       " 'tech',\n",
       " '.',\n",
       " 'I',\n",
       " 'am',\n",
       " 'sure',\n",
       " '!!',\n",
       " 'you',\n",
       " 'will',\n",
       " 'get',\n",
       " 'to',\n",
       " 'learn',\n",
       " 'lot',\n",
       " 'many',\n",
       " 'things',\n",
       " 'from',\n",
       " 'him']"
      ]
     },
     "execution_count": 29,
     "metadata": {},
     "output_type": "execute_result"
    }
   ],
   "source": [
    "wordpunct_tokenize(corpus)"
   ]
  },
  {
   "cell_type": "code",
   "execution_count": 30,
   "metadata": {},
   "outputs": [],
   "source": [
    "from nltk.tokenize import TreebankWordTokenizer\n"
   ]
  },
  {
   "cell_type": "code",
   "execution_count": 32,
   "metadata": {},
   "outputs": [],
   "source": [
    "tokenizer=TreebankWordTokenizer()"
   ]
  },
  {
   "cell_type": "code",
   "execution_count": 35,
   "metadata": {},
   "outputs": [
    {
     "name": "stdout",
     "output_type": "stream",
     "text": [
      "['Hello', 'Welcome', ',', 'to', 'talib', 'sayyed', \"'s\", 'program', 'about', 'NLP', 'Tutorials.', 'talib', 'is', 'expert', 'in', 'every', 'tech.', 'I', 'am', 'sure', '!', '!', 'you', 'will', 'get', 'to', 'learn', 'lot', 'many', 'things', 'from', 'him']\n"
     ]
    }
   ],
   "source": [
    "tok=tokenizer.tokenize(corpus)\n"
   ]
  },
  {
   "cell_type": "code",
   "execution_count": 38,
   "metadata": {},
   "outputs": [
    {
     "data": {
      "text/plain": [
       "['Hello',\n",
       " 'Welcome',\n",
       " ',',\n",
       " 'to',\n",
       " 'talib',\n",
       " 'sayyed',\n",
       " \"'s\",\n",
       " 'program',\n",
       " 'about',\n",
       " 'NLP',\n",
       " 'Tutorials.',\n",
       " 'talib',\n",
       " 'is',\n",
       " 'expert',\n",
       " 'in',\n",
       " 'every',\n",
       " 'tech.',\n",
       " 'I',\n",
       " 'am',\n",
       " 'sure',\n",
       " '!',\n",
       " '!',\n",
       " 'you',\n",
       " 'will',\n",
       " 'get',\n",
       " 'to',\n",
       " 'learn',\n",
       " 'lot',\n",
       " 'many',\n",
       " 'things',\n",
       " 'from',\n",
       " 'him']"
      ]
     },
     "execution_count": 38,
     "metadata": {},
     "output_type": "execute_result"
    }
   ],
   "source": [
    "tok"
   ]
  },
  {
   "cell_type": "code",
   "execution_count": 1,
   "metadata": {},
   "outputs": [
    {
     "name": "stdout",
     "output_type": "stream",
     "text": [
      "<class 'int'>\n"
     ]
    }
   ],
   "source": [
    "x = 5\n",
    "print(type(x))"
   ]
  },
  {
   "cell_type": "code",
   "execution_count": 2,
   "metadata": {},
   "outputs": [
    {
     "name": "stdout",
     "output_type": "stream",
     "text": [
      "<class 'float'>\n"
     ]
    }
   ],
   "source": [
    "t = 2.8\n",
    "print(type(t))"
   ]
  },
  {
   "cell_type": "code",
   "execution_count": 3,
   "metadata": {},
   "outputs": [],
   "source": [
    "x = 'Hello'[0]"
   ]
  },
  {
   "cell_type": "code",
   "execution_count": 6,
   "metadata": {},
   "outputs": [
    {
     "name": "stdout",
     "output_type": "stream",
     "text": [
      "TALIB\n"
     ]
    }
   ],
   "source": [
    "t = 'talib'\n",
    "u = t.upper()\n",
    "print(u)"
   ]
  },
  {
   "cell_type": "code",
   "execution_count": 11,
   "metadata": {},
   "outputs": [
    {
     "data": {
      "text/plain": [
       "'TOLIB'"
      ]
     },
     "execution_count": 11,
     "metadata": {},
     "output_type": "execute_result"
    }
   ],
   "source": [
    "v = u.replace('A','O')\n",
    "v"
   ]
  },
  {
   "cell_type": "code",
   "execution_count": 12,
   "metadata": {},
   "outputs": [
    {
     "data": {
      "text/plain": [
       "'TALIB'"
      ]
     },
     "execution_count": 12,
     "metadata": {},
     "output_type": "execute_result"
    }
   ],
   "source": [
    "u"
   ]
  },
  {
   "cell_type": "code",
   "execution_count": null,
   "metadata": {},
   "outputs": [],
   "source": []
  }
 ],
 "metadata": {
  "kernelspec": {
   "display_name": "base",
   "language": "python",
   "name": "python3"
  },
  "language_info": {
   "codemirror_mode": {
    "name": "ipython",
    "version": 3
   },
   "file_extension": ".py",
   "mimetype": "text/x-python",
   "name": "python",
   "nbconvert_exporter": "python",
   "pygments_lexer": "ipython3",
   "version": "3.11.7"
  }
 },
 "nbformat": 4,
 "nbformat_minor": 2
}
