{
 "cells": [
  {
   "cell_type": "markdown",
   "metadata": {},
   "source": [
    "##### Intro to Dictionaries\n",
    "\n",
    "Dictionary are unordered collection of items. They store data in key-value pairs. Keys must be unique and immutable(eg. strings numbers or tuples), while values can be of any type."
   ]
  },
  {
   "cell_type": "code",
   "execution_count": 4,
   "metadata": {},
   "outputs": [
    {
     "name": "stdout",
     "output_type": "stream",
     "text": [
      "<class 'dict'>\n"
     ]
    }
   ],
   "source": [
    "#Creating dictionary \n",
    "empdict = { }\n",
    "print(type(empdict))"
   ]
  },
  {
   "cell_type": "code",
   "execution_count": 11,
   "metadata": {},
   "outputs": [
    {
     "name": "stdout",
     "output_type": "stream",
     "text": [
      "{'Name': 'Talib', 'Surname': 'Sayyed', 'Age': 25, 'Grade': 'A'}\n"
     ]
    }
   ],
   "source": [
    "student={'Name':'Talib','Surname':'Sayyed','Age':25, 'Grade':'A'}\n",
    "print(student)"
   ]
  },
  {
   "cell_type": "code",
   "execution_count": 14,
   "metadata": {},
   "outputs": [
    {
     "name": "stdout",
     "output_type": "stream",
     "text": [
      "Talib\n",
      "25\n",
      "Sayyed\n",
      "None\n",
      "Not available\n"
     ]
    }
   ],
   "source": [
    "#Accessing dictionary elements \n",
    "print(student['Name'])\n",
    "print(student['Age'])\n",
    "\n",
    "#Accessing values using the default get method \n",
    "print(student.get('Surname')) \n",
    "print(student.get('lastname'))\n",
    "#instead of none if i want a default value then\n",
    "print(student.get('lastname','Not available'))"
   ]
  },
  {
   "cell_type": "code",
   "execution_count": 15,
   "metadata": {},
   "outputs": [
    {
     "name": "stdout",
     "output_type": "stream",
     "text": [
      "{'Name': 'Talib', 'Surname': 'Sayyed', 'Age': 25, 'Grade': 'A'}\n"
     ]
    }
   ],
   "source": [
    "#modifying dictionary elements\n",
    "#dictionary are mutuable so you can add update or delete elements\n",
    "print(student)"
   ]
  },
  {
   "cell_type": "code",
   "execution_count": 16,
   "metadata": {},
   "outputs": [
    {
     "name": "stdout",
     "output_type": "stream",
     "text": [
      "{'Name': 'Talib', 'Surname': 'Sayyed', 'Age': 24, 'Grade': 'A'}\n"
     ]
    }
   ],
   "source": [
    "student['Age']=24 #updated the value\n",
    "print(student)\n",
    "student['country']='india' #added a new key and value"
   ]
  },
  {
   "cell_type": "code",
   "execution_count": 17,
   "metadata": {},
   "outputs": [
    {
     "name": "stdout",
     "output_type": "stream",
     "text": [
      "{'Name': 'Talib', 'Surname': 'Sayyed', 'Age': 24, 'Grade': 'A', 'country': 'india'}\n"
     ]
    }
   ],
   "source": [
    "print(student)"
   ]
  },
  {
   "cell_type": "code",
   "execution_count": 18,
   "metadata": {},
   "outputs": [
    {
     "name": "stdout",
     "output_type": "stream",
     "text": [
      "{'Name': 'Talib', 'Surname': 'Sayyed', 'Age': 24, 'country': 'india'}\n"
     ]
    }
   ],
   "source": [
    "del student['Grade'] ##delete the key and value pair\n",
    "print(student)"
   ]
  },
  {
   "cell_type": "code",
   "execution_count": 20,
   "metadata": {},
   "outputs": [
    {
     "name": "stdout",
     "output_type": "stream",
     "text": [
      "dict_keys(['Name', 'Surname', 'Age', 'country'])\n",
      "dict_values(['Talib', 'Sayyed', 24, 'india'])\n",
      "dict_items([('Name', 'Talib'), ('Surname', 'Sayyed'), ('Age', 24), ('country', 'india')])\n"
     ]
    }
   ],
   "source": [
    "#Dictionary methods \n",
    "\n",
    "keys = student.keys() #get all the keys\n",
    "print(keys)\n",
    "\n",
    "values = student.values() #get all the values\n",
    "print(values)\n",
    "\n",
    "items = student.items() #get all key value pairs \n",
    "print(items)"
   ]
  },
  {
   "cell_type": "code",
   "execution_count": 21,
   "metadata": {},
   "outputs": [
    {
     "name": "stdout",
     "output_type": "stream",
     "text": [
      "{'Name': 'Talib', 'Surname': 'Sayyed', 'Age': 24, 'country': 'india'}\n",
      "{'Name': 'Talib', 'Surname': 'Sayyed', 'Age': 24, 'country': 'india'}\n"
     ]
    }
   ],
   "source": [
    "#Shallow copy\n",
    "stu_copy = student\n",
    "print(stu_copy)\n",
    "print(student)"
   ]
  },
  {
   "cell_type": "code",
   "execution_count": 22,
   "metadata": {},
   "outputs": [
    {
     "name": "stdout",
     "output_type": "stream",
     "text": [
      "{'Name': 'Talib2', 'Surname': 'Sayyed', 'Age': 24, 'country': 'india'}\n",
      "{'Name': 'Talib2', 'Surname': 'Sayyed', 'Age': 24, 'country': 'india'}\n"
     ]
    }
   ],
   "source": [
    "student['Name'] = 'Talib2'\n",
    "print(stu_copy)\n",
    "print(student)"
   ]
  },
  {
   "cell_type": "code",
   "execution_count": 23,
   "metadata": {},
   "outputs": [
    {
     "name": "stdout",
     "output_type": "stream",
     "text": [
      "{'Name': 'Talib2', 'Surname': 'Sayyed', 'Age': 24, 'country': 'india'}\n",
      "{'Name': 'Talib2', 'Surname': 'Sayyed', 'Age': 24, 'country': 'india'}\n"
     ]
    }
   ],
   "source": [
    "stu_copy1 = student.copy() #this is used for shallow copy \n",
    "print(stu_copy1)\n",
    "print(student)"
   ]
  },
  {
   "cell_type": "code",
   "execution_count": 25,
   "metadata": {},
   "outputs": [
    {
     "name": "stdout",
     "output_type": "stream",
     "text": [
      "{'Name': 'Talib2', 'Surname': 'Sayyed', 'Age': 24, 'country': 'india'}\n",
      "{'Name': 'Talib3', 'Surname': 'Sayyed', 'Age': 24, 'country': 'india'}\n",
      "{'Name': 'Talib3', 'Surname': 'Sayyed', 'Age': 24, 'country': 'india'}\n"
     ]
    }
   ],
   "source": [
    "student['Name']='Talib3'\n",
    "print(stu_copy1)\n",
    "print(stu_copy)\n",
    "print(student)"
   ]
  },
  {
   "cell_type": "code",
   "execution_count": 27,
   "metadata": {},
   "outputs": [
    {
     "name": "stdout",
     "output_type": "stream",
     "text": [
      "Name\n",
      "Surname\n",
      "Age\n",
      "country\n"
     ]
    }
   ],
   "source": [
    "#iterating over dictionaries\n",
    "# you can use loops to iterate over dictionaries, keys, values or items\n",
    "\n",
    "#iterating over keys\n",
    "for keys in student.keys():\n",
    "    print(keys)\n"
   ]
  },
  {
   "cell_type": "code",
   "execution_count": 29,
   "metadata": {},
   "outputs": [
    {
     "name": "stdout",
     "output_type": "stream",
     "text": [
      "Talib3\n",
      "Sayyed\n",
      "24\n",
      "india\n"
     ]
    }
   ],
   "source": [
    "#iterating over values\n",
    "for values in student.values():\n",
    "    print(values)"
   ]
  },
  {
   "cell_type": "code",
   "execution_count": 30,
   "metadata": {},
   "outputs": [
    {
     "name": "stdout",
     "output_type": "stream",
     "text": [
      "('Name', 'Talib3')\n",
      "('Surname', 'Sayyed')\n",
      "('Age', 24)\n",
      "('country', 'india')\n"
     ]
    }
   ],
   "source": [
    "#iterating over items\n",
    "for items in student.items():\n",
    "    print(items)"
   ]
  },
  {
   "cell_type": "code",
   "execution_count": 33,
   "metadata": {},
   "outputs": [
    {
     "name": "stdout",
     "output_type": "stream",
     "text": [
      "Name : Talib3\n",
      "Surname : Sayyed\n",
      "Age : 24\n",
      "country : india\n"
     ]
    }
   ],
   "source": [
    "#antoher way\n",
    "for key,value in student.items():\n",
    "    print(f'{key} : {value}')"
   ]
  },
  {
   "cell_type": "code",
   "execution_count": 35,
   "metadata": {},
   "outputs": [
    {
     "name": "stdout",
     "output_type": "stream",
     "text": [
      "{'Student1': {'name': 'Talib', 'Age': 25}, 'Student2': {'name': 'Saif', 'Age': 29}}\n"
     ]
    }
   ],
   "source": [
    "#Nested dictionaries\n",
    "students={\n",
    "    \"Student1\":{\"name\":'Talib','Age':25},\n",
    "    \"Student2\":{\"name\":'Saif' ,'Age':29}\n",
    "}\n",
    "print(students)\n"
   ]
  },
  {
   "cell_type": "code",
   "execution_count": 37,
   "metadata": {},
   "outputs": [
    {
     "name": "stdout",
     "output_type": "stream",
     "text": [
      "Talib\n",
      "29\n"
     ]
    }
   ],
   "source": [
    "#Accessing the nested dictionary elements\n",
    "print(students['Student1']['name'])\n",
    "print(students['Student2']['Age'])"
   ]
  },
  {
   "cell_type": "code",
   "execution_count": 39,
   "metadata": {},
   "outputs": [
    {
     "name": "stdout",
     "output_type": "stream",
     "text": [
      "Student1:{'name': 'Talib', 'Age': 25}\n",
      "name:Talib\n",
      "Age:25\n",
      "Student2:{'name': 'Saif', 'Age': 29}\n",
      "name:Saif\n",
      "Age:29\n"
     ]
    }
   ],
   "source": [
    "#iterating over nested dictionaries\n",
    "for student_id,student_info in students.items():\n",
    "    print(f\"{student_id}:{student_info}\")\n",
    "    for key,value in student_info.items():\n",
    "        print(f\"{key}:{value}\")\n",
    "    "
   ]
  },
  {
   "cell_type": "code",
   "execution_count": 45,
   "metadata": {},
   "outputs": [
    {
     "name": "stdout",
     "output_type": "stream",
     "text": [
      "{0: 0, 1: 1, 2: 4, 3: 9, 4: 16}\n"
     ]
    }
   ],
   "source": [
    " #Dictionary comprehension\n",
    "squares = {x:x**2 for x in range(5)}\n",
    "print(squares)\n"
   ]
  },
  {
   "cell_type": "code",
   "execution_count": 52,
   "metadata": {},
   "outputs": [
    {
     "name": "stdout",
     "output_type": "stream",
     "text": [
      "{0: 0, 2: 4, 4: 16, 6: 36, 8: 64, 10: 100}\n"
     ]
    }
   ],
   "source": [
    "#Conditional dictionary comprehension\n",
    "even={x:x**2 for x in range(11) if x%2==0}\n",
    "print(even)"
   ]
  },
  {
   "cell_type": "code",
   "execution_count": 55,
   "metadata": {},
   "outputs": [
    {
     "name": "stdout",
     "output_type": "stream",
     "text": [
      "{1: 1, 2: 2, 3: 3, 4: 9}\n"
     ]
    }
   ],
   "source": [
    "##Practical examples\n",
    "#use a dictionary to count the frequency the elements in list\n",
    "numbers = [1,2,2,3,3,3,4,4,4,4,4,4,4,4,4]\n",
    "freq ={}\n",
    "\n",
    "for number in numbers:\n",
    "    if number in freq:\n",
    "        freq[number]+=1\n",
    "    else:\n",
    "        freq[number]=1\n",
    "print(freq)"
   ]
  },
  {
   "cell_type": "code",
   "execution_count": 56,
   "metadata": {},
   "outputs": [
    {
     "name": "stdout",
     "output_type": "stream",
     "text": [
      "{'a': 1, 'b': 2, 'c': 3, 'd': 4}\n"
     ]
    }
   ],
   "source": [
    "#merge two dictionaries into one\n",
    "dict1={'a':1,'b':2}\n",
    "dict2={'c':3,'d':4}\n",
    "merged_dict={**dict1,**dict2}\n",
    "print(merged_dict)"
   ]
  },
  {
   "cell_type": "code",
   "execution_count": null,
   "metadata": {},
   "outputs": [],
   "source": [
    " "
   ]
  }
 ],
 "metadata": {
  "kernelspec": {
   "display_name": "base",
   "language": "python",
   "name": "python3"
  },
  "language_info": {
   "codemirror_mode": {
    "name": "ipython",
    "version": 3
   },
   "file_extension": ".py",
   "mimetype": "text/x-python",
   "name": "python",
   "nbconvert_exporter": "python",
   "pygments_lexer": "ipython3",
   "version": "3.11.7"
  }
 },
 "nbformat": 4,
 "nbformat_minor": 2
}
