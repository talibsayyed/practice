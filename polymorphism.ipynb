{
 "cells": [
  {
   "cell_type": "markdown",
   "metadata": {},
   "source": [
    "### Polymorphism\n",
    "\n",
    "Polymorphism is a core concept in Object Oriented Programming (OOP) that allows objects of different classes to be treated as objects of a common superclass. It provides a way to perform a single action in different forms. Polymorphism is typically achieved through method overriding and interfaces."
   ]
  },
  {
   "cell_type": "markdown",
   "metadata": {},
   "source": [
    "### Method Overriding\n",
    "\n",
    "Method overriding allows a child class to provide a specific implementation of a method that is already defined in its parent class."
   ]
  },
  {
   "cell_type": "code",
   "execution_count": 1,
   "metadata": {},
   "outputs": [
    {
     "name": "stdout",
     "output_type": "stream",
     "text": [
      "Woof!\n"
     ]
    }
   ],
   "source": [
    "## Base class\n",
    "class Animal:\n",
    "    def speak(self):\n",
    "        return \"Sound of the animal\"\n",
    "# Derived class 1\n",
    "class Dog(Animal):\n",
    "    def speak(self):\n",
    "        return \"Woof!\"\n",
    "    \n",
    "# Derived Class 2\n",
    "class Cat(Animal):\n",
    "    def speak(self):\n",
    "        return \"Meow\"\n",
    "    \n",
    "dog=Dog()\n",
    "print(dog.speak())"
   ]
  },
  {
   "cell_type": "code",
   "execution_count": 2,
   "metadata": {},
   "outputs": [
    {
     "name": "stdout",
     "output_type": "stream",
     "text": [
      "Meow\n"
     ]
    }
   ],
   "source": [
    "cat=Cat()\n",
    "print(cat.speak())"
   ]
  },
  {
   "cell_type": "code",
   "execution_count": 4,
   "metadata": {},
   "outputs": [
    {
     "name": "stdout",
     "output_type": "stream",
     "text": [
      "Woof!\n"
     ]
    }
   ],
   "source": [
    "## Function that demonstrates polymorphism\n",
    "\n",
    "def animal_speak(animal):\n",
    "    print(animal.speak())\n",
    "\n",
    "animal_speak(dog)"
   ]
  },
  {
   "cell_type": "code",
   "execution_count": 13,
   "metadata": {},
   "outputs": [
    {
     "name": "stdout",
     "output_type": "stream",
     "text": [
      "The area is 20\n",
      "The area is 28.259999999999998\n",
      "The area is 25\n"
     ]
    }
   ],
   "source": [
    "## Polymorphism with function and methods\n",
    "\n",
    "## Base class\n",
    "class Shape:\n",
    "    def area(self):\n",
    "        return \"The area of the figure\"\n",
    "## Derived class 1\n",
    "class Rectangle(Shape):\n",
    "    def __init__(self,width,height):\n",
    "        self.width=width\n",
    "        self.height=height\n",
    "\n",
    "    def area(self):\n",
    "        return self.width*self.height\n",
    "    \n",
    "## derived class 2\n",
    "class Square(Shape):\n",
    "    def __init__(self,length):\n",
    "        self.length=length\n",
    "    def area(self):\n",
    "        return self.length*self.length\n",
    "\n",
    "## Derived class 3\n",
    "class Circle(Shape):\n",
    "    def __init__(self,radius):\n",
    "        self.radius=radius\n",
    "    def area(self):\n",
    "        return 3.14*self.radius*self.radius\n",
    "    \n",
    "## Function that demonstrates polymorphism\n",
    "def print_area(shape):\n",
    "    print(f\"The area is {shape.area()}\")\n",
    "\n",
    "rectangle=Rectangle(4,5)\n",
    "circle=Circle(3)\n",
    "square=Square(5)\n",
    "print_area(rectangle)\n",
    "print_area(circle)\n",
    "print_area(square)"
   ]
  },
  {
   "cell_type": "markdown",
   "metadata": {},
   "source": [
    "### Poymorphism with Abstract Base Classes\n",
    "\n",
    "Abstract Base Classes (ABC's) are used to define common methods for a group of related objects. They can enforce that derived classes implement particular methods, promoting consistency accross different implementations."
   ]
  },
  {
   "cell_type": "code",
   "execution_count": 16,
   "metadata": {},
   "outputs": [
    {
     "name": "stdout",
     "output_type": "stream",
     "text": [
      "Car engine started\n",
      "motorcycle engine started\n"
     ]
    }
   ],
   "source": [
    "from abc import ABC,abstractmethod\n",
    "## Define an abstract class \n",
    "class Vehicle(ABC):\n",
    "    @abstractmethod\n",
    "    def start_engine(self):\n",
    "        pass \n",
    "#Derived class 1 \n",
    "class Car(Vehicle):\n",
    "    def start_engine(self):\n",
    "        return \"Car engine started\"\n",
    "#derived class 2\n",
    "class Motorcycle(Vehicle):\n",
    "    def start_engine(self):\n",
    "        return \"motorcycle engine started\"\n",
    "    \n",
    "#Function that demonstrates polymorphism\n",
    "def start_vehicle(vehicle):\n",
    "    print(vehicle.start_engine())\n",
    "\n",
    "# Create objects of car and motorcycle\n",
    "\n",
    "car=Car()\n",
    "motorcycle=Motorcycle()\n",
    "\n",
    "start_vehicle(car)\n",
    "start_vehicle(motorcycle)"
   ]
  },
  {
   "cell_type": "markdown",
   "metadata": {},
   "source": [
    "### Conclusion\n",
    "\n",
    "Polymorphism is a powerful feature of OOP that allows for flexibility and integration in code design. It enables a single function to handle objects of different classes, each with its own implementation of a method. By understanding and applying polymorphism, you can create more extensible and maintainable objects-oriented programs."
   ]
  },
  {
   "cell_type": "code",
   "execution_count": null,
   "metadata": {},
   "outputs": [],
   "source": [
    "    "
   ]
  }
 ],
 "metadata": {
  "kernelspec": {
   "display_name": "base",
   "language": "python",
   "name": "python3"
  },
  "language_info": {
   "codemirror_mode": {
    "name": "ipython",
    "version": 3
   },
   "file_extension": ".py",
   "mimetype": "text/x-python",
   "name": "python",
   "nbconvert_exporter": "python",
   "pygments_lexer": "ipython3",
   "version": "3.11.7"
  }
 },
 "nbformat": 4,
 "nbformat_minor": 2
}
