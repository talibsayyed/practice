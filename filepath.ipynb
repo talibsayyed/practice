{
 "cells": [
  {
   "cell_type": "code",
   "execution_count": 1,
   "metadata": {},
   "outputs": [],
   "source": [
    "import os"
   ]
  },
  {
   "cell_type": "code",
   "execution_count": 3,
   "metadata": {},
   "outputs": [],
   "source": [
    "### Create a new directory \n",
    "new_dir = 'package2'\n",
    "os.mkdir(new_dir)"
   ]
  },
  {
   "cell_type": "code",
   "execution_count": 4,
   "metadata": {},
   "outputs": [
    {
     "name": "stdout",
     "output_type": "stream",
     "text": [
      "['basics.ipynb', 'conditional_statements.ipynb', 'destination.txt', 'dictionary.ipynb', 'example.bin', 'example.csv', 'example.txt', 'file.txt', 'fileoperation.ipynb', 'filepath.ipynb', 'filter.ipynb', 'functions.ipynb', 'import.ipynb', 'lambda.ipynb', 'Linear_reg_from_scratch.ipynb', 'lists.ipynb', 'loops.ipynb', 'map.ipynb', 'operators.ipynb', 'package', 'package2', 'RealWorldList.ipynb', 'salary_data.csv', 'sets.ipynb', 'simple_calc.ipynb', 'source.txt', 'standardlibrary.ipynb', 'Test-dir', 'test.py', 'tuples.ipynb']\n"
     ]
    }
   ],
   "source": [
    "### Listing files and directories \n",
    "items=os.listdir('.') # '.' means we are looking for current directory \n",
    "print(items)\n"
   ]
  },
  {
   "cell_type": "code",
   "execution_count": 5,
   "metadata": {},
   "outputs": [
    {
     "name": "stdout",
     "output_type": "stream",
     "text": [
      "folder\\file2.txt\n"
     ]
    }
   ],
   "source": [
    "### Joining paths\n",
    "dir_name = 'folder'\n",
    "file_name = 'file2.txt'\n",
    "full_path = os.path.join(dir_name,file_name)\n",
    "print(full_path)\n"
   ]
  },
  {
   "cell_type": "code",
   "execution_count": 6,
   "metadata": {},
   "outputs": [
    {
     "name": "stdout",
     "output_type": "stream",
     "text": [
      "c:\\Users\\Admin\\Desktop\\DS\\ML\\folder\\file2.txt\n"
     ]
    }
   ],
   "source": [
    "dir_name = 'folder'\n",
    "file_name = 'file2.txt'\n",
    "full_path = os.path.join(os.getcwd(),dir_name,file_name) # OS .getcwd to get the absolute path\n",
    "print(full_path)\n"
   ]
  },
  {
   "cell_type": "code",
   "execution_count": 7,
   "metadata": {},
   "outputs": [
    {
     "name": "stdout",
     "output_type": "stream",
     "text": [
      "The path example1.txt does not exists\n"
     ]
    }
   ],
   "source": [
    "path = 'example1.txt'\n",
    "if os.path.exists(path):\n",
    "    print(f'The path {path} exists')\n",
    "else:\n",
    "    print(f'The path {path} does not exists')"
   ]
  },
  {
   "cell_type": "code",
   "execution_count": 10,
   "metadata": {},
   "outputs": [
    {
     "name": "stdout",
     "output_type": "stream",
     "text": [
      "The path example.txt is a file\n"
     ]
    }
   ],
   "source": [
    "# Checking if the path is file or directory\n",
    "path = 'example.txt'\n",
    "if os.path.isfile(path):\n",
    "    print(f'The path {path} is a file')\n",
    "elif os.path.isdir(path):\n",
    "    print(f'The path {path} is a directory')\n",
    "else:\n",
    "    print(f'The path {path} is neither a file or a folder')\n",
    "\n"
   ]
  },
  {
   "cell_type": "code",
   "execution_count": 11,
   "metadata": {},
   "outputs": [
    {
     "name": "stdout",
     "output_type": "stream",
     "text": [
      "c:\\Users\\Admin\\Desktop\\DS\\ML\\example.txt\n"
     ]
    }
   ],
   "source": [
    "## getting the absolute path \n",
    "relative_path='example.txt'\n",
    "absolute_path=os.path.abspath(relative_path)\n",
    "print(absolute_path)"
   ]
  },
  {
   "cell_type": "code",
   "execution_count": null,
   "metadata": {},
   "outputs": [],
   "source": []
  }
 ],
 "metadata": {
  "kernelspec": {
   "display_name": "base",
   "language": "python",
   "name": "python3"
  },
  "language_info": {
   "codemirror_mode": {
    "name": "ipython",
    "version": 3
   },
   "file_extension": ".py",
   "mimetype": "text/x-python",
   "name": "python",
   "nbconvert_exporter": "python",
   "pygments_lexer": "ipython3",
   "version": "3.11.7"
  }
 },
 "nbformat": 4,
 "nbformat_minor": 2
}
