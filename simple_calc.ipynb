{
 "cells": [
  {
   "cell_type": "code",
   "execution_count": 2,
   "metadata": {},
   "outputs": [
    {
     "name": "stdout",
     "output_type": "stream",
     "text": [
      "First number =  345\n",
      "Second number=  12\n",
      "Sum:  357\n",
      "difference:  333\n",
      "product:  4140\n",
      "division:  28.75\n"
     ]
    }
   ],
   "source": [
    "first_number = int(input(\"Enter the first number\"))\n",
    "second_number = int(input('Enter the second number'))\n",
    "\n",
    "sum = first_number + second_number\n",
    "difference = first_number - second_number\n",
    "product = first_number * second_number\n",
    "quotient = first_number / second_number \n",
    "\n",
    "print('First number = ', first_number)\n",
    "print('Second number= ', second_number)\n",
    "\n",
    "print(\"Sum: \", sum)\n",
    "print('difference: ',difference)\n",
    "print('product: ', product)\n",
    "print('division: ', quotient)"
   ]
  },
  {
   "cell_type": "code",
   "execution_count": null,
   "metadata": {},
   "outputs": [],
   "source": []
  },
  {
   "cell_type": "code",
   "execution_count": null,
   "metadata": {},
   "outputs": [],
   "source": []
  },
  {
   "cell_type": "code",
   "execution_count": null,
   "metadata": {},
   "outputs": [],
   "source": []
  },
  {
   "cell_type": "code",
   "execution_count": null,
   "metadata": {},
   "outputs": [],
   "source": []
  },
  {
   "cell_type": "code",
   "execution_count": null,
   "metadata": {},
   "outputs": [],
   "source": []
  }
 ],
 "metadata": {
  "kernelspec": {
   "display_name": "base",
   "language": "python",
   "name": "python3"
  },
  "language_info": {
   "codemirror_mode": {
    "name": "ipython",
    "version": 3
   },
   "file_extension": ".py",
   "mimetype": "text/x-python",
   "name": "python",
   "nbconvert_exporter": "python",
   "pygments_lexer": "ipython3",
   "version": "3.11.7"
  }
 },
 "nbformat": 4,
 "nbformat_minor": 2
}
