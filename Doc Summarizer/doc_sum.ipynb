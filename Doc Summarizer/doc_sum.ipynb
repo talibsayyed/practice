{
 "cells": [
  {
   "cell_type": "code",
   "execution_count": 1,
   "metadata": {},
   "outputs": [
    {
     "name": "stdout",
     "output_type": "stream",
     "text": [
      "Requirement already satisfied: llama-index in c:\\users\\talib\\appdata\\local\\programs\\python\\python311\\lib\\site-packages (0.12.0)\n",
      "Requirement already satisfied: llama-index-llms-groq in c:\\users\\talib\\appdata\\local\\programs\\python\\python311\\lib\\site-packages (0.3.0)\n",
      "Requirement already satisfied: llama-index-embeddings-huggingface in c:\\users\\talib\\appdata\\local\\programs\\python\\python311\\lib\\site-packages (0.4.0)\n",
      "Requirement already satisfied: llama-index-agent-openai<0.5.0,>=0.4.0 in c:\\users\\talib\\appdata\\local\\programs\\python\\python311\\lib\\site-packages (from llama-index) (0.4.0)\n",
      "Requirement already satisfied: llama-index-cli<0.5.0,>=0.4.0 in c:\\users\\talib\\appdata\\local\\programs\\python\\python311\\lib\\site-packages (from llama-index) (0.4.0)\n",
      "Requirement already satisfied: llama-index-core<0.13.0,>=0.12.0 in c:\\users\\talib\\appdata\\local\\programs\\python\\python311\\lib\\site-packages (from llama-index) (0.12.0)\n",
      "Requirement already satisfied: llama-index-embeddings-openai<0.4.0,>=0.3.0 in c:\\users\\talib\\appdata\\local\\programs\\python\\python311\\lib\\site-packages (from llama-index) (0.3.0)\n",
      "Requirement already satisfied: llama-index-indices-managed-llama-cloud>=0.4.0 in c:\\users\\talib\\appdata\\local\\programs\\python\\python311\\lib\\site-packages (from llama-index) (0.6.2)\n",
      "Requirement already satisfied: llama-index-legacy<0.10.0,>=0.9.48 in c:\\users\\talib\\appdata\\local\\programs\\python\\python311\\lib\\site-packages (from llama-index) (0.9.48.post4)\n",
      "Requirement already satisfied: llama-index-llms-openai<0.4.0,>=0.3.0 in c:\\users\\talib\\appdata\\local\\programs\\python\\python311\\lib\\site-packages (from llama-index) (0.3.0)\n",
      "Requirement already satisfied: llama-index-multi-modal-llms-openai<0.4.0,>=0.3.0 in c:\\users\\talib\\appdata\\local\\programs\\python\\python311\\lib\\site-packages (from llama-index) (0.3.0)\n",
      "Requirement already satisfied: llama-index-program-openai<0.4.0,>=0.3.0 in c:\\users\\talib\\appdata\\local\\programs\\python\\python311\\lib\\site-packages (from llama-index) (0.3.0)\n",
      "Requirement already satisfied: llama-index-question-gen-openai<0.4.0,>=0.3.0 in c:\\users\\talib\\appdata\\local\\programs\\python\\python311\\lib\\site-packages (from llama-index) (0.3.0)\n",
      "Requirement already satisfied: llama-index-readers-file<0.5.0,>=0.4.0 in c:\\users\\talib\\appdata\\local\\programs\\python\\python311\\lib\\site-packages (from llama-index) (0.4.0)\n",
      "Requirement already satisfied: llama-index-readers-llama-parse>=0.4.0 in c:\\users\\talib\\appdata\\local\\programs\\python\\python311\\lib\\site-packages (from llama-index) (0.4.0)\n",
      "Requirement already satisfied: nltk>3.8.1 in c:\\users\\talib\\appdata\\local\\programs\\python\\python311\\lib\\site-packages (from llama-index) (3.9.1)\n",
      "Requirement already satisfied: llama-index-llms-openai-like<0.4.0,>=0.3.0 in c:\\users\\talib\\appdata\\local\\programs\\python\\python311\\lib\\site-packages (from llama-index-llms-groq) (0.3.0)\n",
      "Requirement already satisfied: huggingface-hub>=0.19.0 in c:\\users\\talib\\appdata\\local\\programs\\python\\python311\\lib\\site-packages (from huggingface-hub[inference]>=0.19.0->llama-index-embeddings-huggingface) (0.26.2)\n",
      "Requirement already satisfied: sentence-transformers>=2.6.1 in c:\\users\\talib\\appdata\\local\\programs\\python\\python311\\lib\\site-packages (from llama-index-embeddings-huggingface) (3.3.1)\n",
      "Requirement already satisfied: filelock in c:\\users\\talib\\appdata\\local\\programs\\python\\python311\\lib\\site-packages (from huggingface-hub>=0.19.0->huggingface-hub[inference]>=0.19.0->llama-index-embeddings-huggingface) (3.16.1)\n",
      "Requirement already satisfied: fsspec>=2023.5.0 in c:\\users\\talib\\appdata\\local\\programs\\python\\python311\\lib\\site-packages (from huggingface-hub>=0.19.0->huggingface-hub[inference]>=0.19.0->llama-index-embeddings-huggingface) (2024.10.0)\n",
      "Requirement already satisfied: packaging>=20.9 in c:\\users\\talib\\appdata\\local\\programs\\python\\python311\\lib\\site-packages (from huggingface-hub>=0.19.0->huggingface-hub[inference]>=0.19.0->llama-index-embeddings-huggingface) (24.1)\n",
      "Requirement already satisfied: pyyaml>=5.1 in c:\\users\\talib\\appdata\\local\\programs\\python\\python311\\lib\\site-packages (from huggingface-hub>=0.19.0->huggingface-hub[inference]>=0.19.0->llama-index-embeddings-huggingface) (6.0.2)\n",
      "Requirement already satisfied: requests in c:\\users\\talib\\appdata\\local\\programs\\python\\python311\\lib\\site-packages (from huggingface-hub>=0.19.0->huggingface-hub[inference]>=0.19.0->llama-index-embeddings-huggingface) (2.32.3)\n",
      "Requirement already satisfied: tqdm>=4.42.1 in c:\\users\\talib\\appdata\\local\\programs\\python\\python311\\lib\\site-packages (from huggingface-hub>=0.19.0->huggingface-hub[inference]>=0.19.0->llama-index-embeddings-huggingface) (4.66.6)\n",
      "Requirement already satisfied: typing-extensions>=3.7.4.3 in c:\\users\\talib\\appdata\\local\\programs\\python\\python311\\lib\\site-packages (from huggingface-hub>=0.19.0->huggingface-hub[inference]>=0.19.0->llama-index-embeddings-huggingface) (4.12.2)\n",
      "Requirement already satisfied: aiohttp in c:\\users\\talib\\appdata\\local\\programs\\python\\python311\\lib\\site-packages (from huggingface-hub[inference]>=0.19.0->llama-index-embeddings-huggingface) (3.10.10)\n",
      "Requirement already satisfied: openai>=1.14.0 in c:\\users\\talib\\appdata\\local\\programs\\python\\python311\\lib\\site-packages (from llama-index-agent-openai<0.5.0,>=0.4.0->llama-index) (1.54.5)\n",
      "Requirement already satisfied: SQLAlchemy>=1.4.49 in c:\\users\\talib\\appdata\\local\\programs\\python\\python311\\lib\\site-packages (from SQLAlchemy[asyncio]>=1.4.49->llama-index-core<0.13.0,>=0.12.0->llama-index) (2.0.36)\n",
      "Requirement already satisfied: dataclasses-json in c:\\users\\talib\\appdata\\local\\programs\\python\\python311\\lib\\site-packages (from llama-index-core<0.13.0,>=0.12.0->llama-index) (0.6.7)\n",
      "Requirement already satisfied: deprecated>=1.2.9.3 in c:\\users\\talib\\appdata\\local\\programs\\python\\python311\\lib\\site-packages (from llama-index-core<0.13.0,>=0.12.0->llama-index) (1.2.15)\n",
      "Requirement already satisfied: dirtyjson<2.0.0,>=1.0.8 in c:\\users\\talib\\appdata\\local\\programs\\python\\python311\\lib\\site-packages (from llama-index-core<0.13.0,>=0.12.0->llama-index) (1.0.8)\n",
      "Requirement already satisfied: filetype<2.0.0,>=1.2.0 in c:\\users\\talib\\appdata\\local\\programs\\python\\python311\\lib\\site-packages (from llama-index-core<0.13.0,>=0.12.0->llama-index) (1.2.0)\n",
      "Requirement already satisfied: httpx in c:\\users\\talib\\appdata\\local\\programs\\python\\python311\\lib\\site-packages (from llama-index-core<0.13.0,>=0.12.0->llama-index) (0.27.2)\n",
      "Requirement already satisfied: nest-asyncio<2.0.0,>=1.5.8 in c:\\users\\talib\\appdata\\local\\programs\\python\\python311\\lib\\site-packages (from llama-index-core<0.13.0,>=0.12.0->llama-index) (1.6.0)\n",
      "Requirement already satisfied: networkx>=3.0 in c:\\users\\talib\\appdata\\local\\programs\\python\\python311\\lib\\site-packages (from llama-index-core<0.13.0,>=0.12.0->llama-index) (3.4.2)\n",
      "Requirement already satisfied: numpy in c:\\users\\talib\\appdata\\local\\programs\\python\\python311\\lib\\site-packages (from llama-index-core<0.13.0,>=0.12.0->llama-index) (2.0.0)\n",
      "Requirement already satisfied: pillow>=9.0.0 in c:\\users\\talib\\appdata\\local\\programs\\python\\python311\\lib\\site-packages (from llama-index-core<0.13.0,>=0.12.0->llama-index) (10.4.0)\n",
      "Requirement already satisfied: pydantic<3.0.0,>=2.7.0 in c:\\users\\talib\\appdata\\local\\programs\\python\\python311\\lib\\site-packages (from llama-index-core<0.13.0,>=0.12.0->llama-index) (2.9.2)\n",
      "Requirement already satisfied: tenacity!=8.4.0,<9.0.0,>=8.2.0 in c:\\users\\talib\\appdata\\local\\programs\\python\\python311\\lib\\site-packages (from llama-index-core<0.13.0,>=0.12.0->llama-index) (8.5.0)\n",
      "Requirement already satisfied: tiktoken>=0.3.3 in c:\\users\\talib\\appdata\\local\\programs\\python\\python311\\lib\\site-packages (from llama-index-core<0.13.0,>=0.12.0->llama-index) (0.8.0)\n",
      "Requirement already satisfied: typing-inspect>=0.8.0 in c:\\users\\talib\\appdata\\local\\programs\\python\\python311\\lib\\site-packages (from llama-index-core<0.13.0,>=0.12.0->llama-index) (0.9.0)\n",
      "Requirement already satisfied: wrapt in c:\\users\\talib\\appdata\\local\\programs\\python\\python311\\lib\\site-packages (from llama-index-core<0.13.0,>=0.12.0->llama-index) (1.16.0)\n",
      "Requirement already satisfied: llama-cloud>=0.1.5 in c:\\users\\talib\\appdata\\local\\programs\\python\\python311\\lib\\site-packages (from llama-index-indices-managed-llama-cloud>=0.4.0->llama-index) (0.1.5)\n",
      "Requirement already satisfied: pandas in c:\\users\\talib\\appdata\\local\\programs\\python\\python311\\lib\\site-packages (from llama-index-legacy<0.10.0,>=0.9.48->llama-index) (2.2.2)\n",
      "Requirement already satisfied: transformers<5.0.0,>=4.37.0 in c:\\users\\talib\\appdata\\local\\programs\\python\\python311\\lib\\site-packages (from llama-index-llms-openai-like<0.4.0,>=0.3.0->llama-index-llms-groq) (4.46.3)\n",
      "Requirement already satisfied: beautifulsoup4<5.0.0,>=4.12.3 in c:\\users\\talib\\appdata\\local\\programs\\python\\python311\\lib\\site-packages (from llama-index-readers-file<0.5.0,>=0.4.0->llama-index) (4.12.3)\n",
      "Requirement already satisfied: pypdf<6.0.0,>=5.1.0 in c:\\users\\talib\\appdata\\local\\programs\\python\\python311\\lib\\site-packages (from llama-index-readers-file<0.5.0,>=0.4.0->llama-index) (5.1.0)\n",
      "Requirement already satisfied: striprtf<0.0.27,>=0.0.26 in c:\\users\\talib\\appdata\\local\\programs\\python\\python311\\lib\\site-packages (from llama-index-readers-file<0.5.0,>=0.4.0->llama-index) (0.0.26)\n",
      "Requirement already satisfied: llama-parse>=0.5.0 in c:\\users\\talib\\appdata\\local\\programs\\python\\python311\\lib\\site-packages (from llama-index-readers-llama-parse>=0.4.0->llama-index) (0.5.14)\n",
      "Requirement already satisfied: click in c:\\users\\talib\\appdata\\local\\programs\\python\\python311\\lib\\site-packages (from nltk>3.8.1->llama-index) (8.1.7)\n",
      "Requirement already satisfied: joblib in c:\\users\\talib\\appdata\\local\\programs\\python\\python311\\lib\\site-packages (from nltk>3.8.1->llama-index) (1.4.2)\n",
      "Requirement already satisfied: regex>=2021.8.3 in c:\\users\\talib\\appdata\\local\\programs\\python\\python311\\lib\\site-packages (from nltk>3.8.1->llama-index) (2024.9.11)\n",
      "Requirement already satisfied: torch>=1.11.0 in c:\\users\\talib\\appdata\\local\\programs\\python\\python311\\lib\\site-packages (from sentence-transformers>=2.6.1->llama-index-embeddings-huggingface) (2.5.1)\n",
      "Requirement already satisfied: scikit-learn in c:\\users\\talib\\appdata\\local\\programs\\python\\python311\\lib\\site-packages (from sentence-transformers>=2.6.1->llama-index-embeddings-huggingface) (1.5.2)\n",
      "Requirement already satisfied: scipy in c:\\users\\talib\\appdata\\local\\programs\\python\\python311\\lib\\site-packages (from sentence-transformers>=2.6.1->llama-index-embeddings-huggingface) (1.14.1)\n",
      "Requirement already satisfied: aiohappyeyeballs>=2.3.0 in c:\\users\\talib\\appdata\\local\\programs\\python\\python311\\lib\\site-packages (from aiohttp->huggingface-hub[inference]>=0.19.0->llama-index-embeddings-huggingface) (2.4.3)\n",
      "Requirement already satisfied: aiosignal>=1.1.2 in c:\\users\\talib\\appdata\\local\\programs\\python\\python311\\lib\\site-packages (from aiohttp->huggingface-hub[inference]>=0.19.0->llama-index-embeddings-huggingface) (1.3.1)\n",
      "Requirement already satisfied: attrs>=17.3.0 in c:\\users\\talib\\appdata\\local\\programs\\python\\python311\\lib\\site-packages (from aiohttp->huggingface-hub[inference]>=0.19.0->llama-index-embeddings-huggingface) (24.2.0)\n",
      "Requirement already satisfied: frozenlist>=1.1.1 in c:\\users\\talib\\appdata\\local\\programs\\python\\python311\\lib\\site-packages (from aiohttp->huggingface-hub[inference]>=0.19.0->llama-index-embeddings-huggingface) (1.4.1)\n",
      "Requirement already satisfied: multidict<7.0,>=4.5 in c:\\users\\talib\\appdata\\local\\programs\\python\\python311\\lib\\site-packages (from aiohttp->huggingface-hub[inference]>=0.19.0->llama-index-embeddings-huggingface) (6.1.0)\n",
      "Requirement already satisfied: yarl<2.0,>=1.12.0 in c:\\users\\talib\\appdata\\local\\programs\\python\\python311\\lib\\site-packages (from aiohttp->huggingface-hub[inference]>=0.19.0->llama-index-embeddings-huggingface) (1.15.0)\n",
      "Requirement already satisfied: soupsieve>1.2 in c:\\users\\talib\\appdata\\local\\programs\\python\\python311\\lib\\site-packages (from beautifulsoup4<5.0.0,>=4.12.3->llama-index-readers-file<0.5.0,>=0.4.0->llama-index) (2.6)\n",
      "Requirement already satisfied: anyio in c:\\users\\talib\\appdata\\local\\programs\\python\\python311\\lib\\site-packages (from httpx->llama-index-core<0.13.0,>=0.12.0->llama-index) (4.6.0)\n",
      "Requirement already satisfied: certifi in c:\\users\\talib\\appdata\\local\\programs\\python\\python311\\lib\\site-packages (from httpx->llama-index-core<0.13.0,>=0.12.0->llama-index) (2024.6.2)\n",
      "Requirement already satisfied: httpcore==1.* in c:\\users\\talib\\appdata\\local\\programs\\python\\python311\\lib\\site-packages (from httpx->llama-index-core<0.13.0,>=0.12.0->llama-index) (1.0.6)\n",
      "Requirement already satisfied: idna in c:\\users\\talib\\appdata\\local\\programs\\python\\python311\\lib\\site-packages (from httpx->llama-index-core<0.13.0,>=0.12.0->llama-index) (3.7)\n",
      "Requirement already satisfied: sniffio in c:\\users\\talib\\appdata\\local\\programs\\python\\python311\\lib\\site-packages (from httpx->llama-index-core<0.13.0,>=0.12.0->llama-index) (1.3.1)\n",
      "Requirement already satisfied: h11<0.15,>=0.13 in c:\\users\\talib\\appdata\\local\\programs\\python\\python311\\lib\\site-packages (from httpcore==1.*->httpx->llama-index-core<0.13.0,>=0.12.0->llama-index) (0.14.0)\n",
      "Requirement already satisfied: colorama in c:\\users\\talib\\appdata\\local\\programs\\python\\python311\\lib\\site-packages (from click->nltk>3.8.1->llama-index) (0.4.6)\n",
      "Requirement already satisfied: distro<2,>=1.7.0 in c:\\users\\talib\\appdata\\local\\programs\\python\\python311\\lib\\site-packages (from openai>=1.14.0->llama-index-agent-openai<0.5.0,>=0.4.0->llama-index) (1.9.0)\n",
      "Requirement already satisfied: jiter<1,>=0.4.0 in c:\\users\\talib\\appdata\\local\\programs\\python\\python311\\lib\\site-packages (from openai>=1.14.0->llama-index-agent-openai<0.5.0,>=0.4.0->llama-index) (0.7.1)\n",
      "Requirement already satisfied: annotated-types>=0.6.0 in c:\\users\\talib\\appdata\\local\\programs\\python\\python311\\lib\\site-packages (from pydantic<3.0.0,>=2.7.0->llama-index-core<0.13.0,>=0.12.0->llama-index) (0.7.0)\n",
      "Requirement already satisfied: pydantic-core==2.23.4 in c:\\users\\talib\\appdata\\local\\programs\\python\\python311\\lib\\site-packages (from pydantic<3.0.0,>=2.7.0->llama-index-core<0.13.0,>=0.12.0->llama-index) (2.23.4)\n",
      "Requirement already satisfied: charset-normalizer<4,>=2 in c:\\users\\talib\\appdata\\local\\programs\\python\\python311\\lib\\site-packages (from requests->huggingface-hub>=0.19.0->huggingface-hub[inference]>=0.19.0->llama-index-embeddings-huggingface) (3.3.2)\n",
      "Requirement already satisfied: urllib3<3,>=1.21.1 in c:\\users\\talib\\appdata\\local\\programs\\python\\python311\\lib\\site-packages (from requests->huggingface-hub>=0.19.0->huggingface-hub[inference]>=0.19.0->llama-index-embeddings-huggingface) (1.26.15)\n",
      "Requirement already satisfied: greenlet!=0.4.17 in c:\\users\\talib\\appdata\\local\\programs\\python\\python311\\lib\\site-packages (from SQLAlchemy>=1.4.49->SQLAlchemy[asyncio]>=1.4.49->llama-index-core<0.13.0,>=0.12.0->llama-index) (3.0.3)\n",
      "Requirement already satisfied: jinja2 in c:\\users\\talib\\appdata\\local\\programs\\python\\python311\\lib\\site-packages (from torch>=1.11.0->sentence-transformers>=2.6.1->llama-index-embeddings-huggingface) (3.1.4)\n",
      "Requirement already satisfied: sympy==1.13.1 in c:\\users\\talib\\appdata\\local\\programs\\python\\python311\\lib\\site-packages (from torch>=1.11.0->sentence-transformers>=2.6.1->llama-index-embeddings-huggingface) (1.13.1)\n",
      "Requirement already satisfied: mpmath<1.4,>=1.1.0 in c:\\users\\talib\\appdata\\local\\programs\\python\\python311\\lib\\site-packages (from sympy==1.13.1->torch>=1.11.0->sentence-transformers>=2.6.1->llama-index-embeddings-huggingface) (1.3.0)\n",
      "Requirement already satisfied: tokenizers<0.21,>=0.20 in c:\\users\\talib\\appdata\\local\\programs\\python\\python311\\lib\\site-packages (from transformers<5.0.0,>=4.37.0->llama-index-llms-openai-like<0.4.0,>=0.3.0->llama-index-llms-groq) (0.20.3)\n",
      "Requirement already satisfied: safetensors>=0.4.1 in c:\\users\\talib\\appdata\\local\\programs\\python\\python311\\lib\\site-packages (from transformers<5.0.0,>=4.37.0->llama-index-llms-openai-like<0.4.0,>=0.3.0->llama-index-llms-groq) (0.4.5)\n",
      "Requirement already satisfied: mypy-extensions>=0.3.0 in c:\\users\\talib\\appdata\\local\\programs\\python\\python311\\lib\\site-packages (from typing-inspect>=0.8.0->llama-index-core<0.13.0,>=0.12.0->llama-index) (1.0.0)\n",
      "Requirement already satisfied: marshmallow<4.0.0,>=3.18.0 in c:\\users\\talib\\appdata\\local\\programs\\python\\python311\\lib\\site-packages (from dataclasses-json->llama-index-core<0.13.0,>=0.12.0->llama-index) (3.23.1)\n",
      "Requirement already satisfied: python-dateutil>=2.8.2 in c:\\users\\talib\\appdata\\local\\programs\\python\\python311\\lib\\site-packages (from pandas->llama-index-legacy<0.10.0,>=0.9.48->llama-index) (2.9.0.post0)\n",
      "Requirement already satisfied: pytz>=2020.1 in c:\\users\\talib\\appdata\\local\\programs\\python\\python311\\lib\\site-packages (from pandas->llama-index-legacy<0.10.0,>=0.9.48->llama-index) (2023.3)\n",
      "Requirement already satisfied: tzdata>=2022.7 in c:\\users\\talib\\appdata\\local\\programs\\python\\python311\\lib\\site-packages (from pandas->llama-index-legacy<0.10.0,>=0.9.48->llama-index) (2023.3)\n",
      "Requirement already satisfied: threadpoolctl>=3.1.0 in c:\\users\\talib\\appdata\\local\\programs\\python\\python311\\lib\\site-packages (from scikit-learn->sentence-transformers>=2.6.1->llama-index-embeddings-huggingface) (3.5.0)\n",
      "Requirement already satisfied: six>=1.5 in c:\\users\\talib\\appdata\\local\\programs\\python\\python311\\lib\\site-packages (from python-dateutil>=2.8.2->pandas->llama-index-legacy<0.10.0,>=0.9.48->llama-index) (1.16.0)\n",
      "Requirement already satisfied: propcache>=0.2.0 in c:\\users\\talib\\appdata\\local\\programs\\python\\python311\\lib\\site-packages (from yarl<2.0,>=1.12.0->aiohttp->huggingface-hub[inference]>=0.19.0->llama-index-embeddings-huggingface) (0.2.0)\n",
      "Requirement already satisfied: MarkupSafe>=2.0 in c:\\users\\talib\\appdata\\local\\programs\\python\\python311\\lib\\site-packages (from jinja2->torch>=1.11.0->sentence-transformers>=2.6.1->llama-index-embeddings-huggingface) (2.1.5)\n"
     ]
    },
    {
     "name": "stderr",
     "output_type": "stream",
     "text": [
      "\n",
      "[notice] A new release of pip is available: 24.2 -> 24.3.1\n",
      "[notice] To update, run: python.exe -m pip install --upgrade pip\n"
     ]
    }
   ],
   "source": [
    "!pip install llama-index llama-index-llms-groq llama-index-embeddings-huggingface"
   ]
  },
  {
   "cell_type": "code",
   "execution_count": 2,
   "metadata": {},
   "outputs": [],
   "source": [
    "import os"
   ]
  },
  {
   "cell_type": "code",
   "execution_count": 3,
   "metadata": {},
   "outputs": [],
   "source": [
    "GROQ_API_KEY = \"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\""
   ]
  },
  {
   "cell_type": "code",
   "execution_count": 4,
   "metadata": {},
   "outputs": [],
   "source": [
    "os.environ[\"GROQ_API_KEY\"] = GROQ_API_KEY"
   ]
  },
  {
   "cell_type": "code",
   "execution_count": 5,
   "metadata": {},
   "outputs": [],
   "source": [
    "import nest_asyncio\n",
    "nest_asyncio.apply()"
   ]
  },
  {
   "cell_type": "code",
   "execution_count": 10,
   "metadata": {},
   "outputs": [],
   "source": [
    "from llama_index.core import SimpleDirectoryReader\n",
    "from llama_index.core import SummaryIndex\n",
    "from llama_index.llms.groq import Groq\n",
    "from llama_index.core.node_parser import SentenceSplitter\n",
    "from llama_index.core import Settings \n",
    "from llama_index.embeddings.huggingface import HuggingFaceEmbedding"
   ]
  },
  {
   "cell_type": "code",
   "execution_count": 12,
   "metadata": {},
   "outputs": [],
   "source": [
    "llm = Groq(model=\"llama-3.1-8b-instant\")\n",
    "Settings.llm = llm\n",
    "Settings.embed_model = HuggingFaceEmbedding()"
   ]
  },
  {
   "cell_type": "code",
   "execution_count": 22,
   "metadata": {},
   "outputs": [],
   "source": [
    "# Load the documents\n",
    "documents = SimpleDirectoryReader(input_files=[\"paper/attention_is_all_you_need.pdf\"]).load_data()"
   ]
  },
  {
   "cell_type": "code",
   "execution_count": 23,
   "metadata": {},
   "outputs": [
    {
     "data": {
      "text/plain": [
       "15"
      ]
     },
     "execution_count": 23,
     "metadata": {},
     "output_type": "execute_result"
    }
   ],
   "source": [
    "len(documents)"
   ]
  },
  {
   "cell_type": "code",
   "execution_count": 24,
   "metadata": {},
   "outputs": [
    {
     "data": {
      "text/plain": [
       "list"
      ]
     },
     "execution_count": 24,
     "metadata": {},
     "output_type": "execute_result"
    }
   ],
   "source": [
    "type(documents)"
   ]
  },
  {
   "cell_type": "code",
   "execution_count": 25,
   "metadata": {},
   "outputs": [
    {
     "data": {
      "text/plain": [
       "Document(id_='51d7931b-1b93-4bff-b5d7-2dfbc6744717', embedding=None, metadata={'page_label': '1', 'file_name': 'attention_is_all_you_need.pdf', 'file_path': 'paper\\\\attention_is_all_you_need.pdf', 'file_type': 'application/pdf', 'file_size': 2215244, 'creation_date': '2024-11-20', 'last_modified_date': '2024-11-20'}, excluded_embed_metadata_keys=['file_name', 'file_type', 'file_size', 'creation_date', 'last_modified_date', 'last_accessed_date'], excluded_llm_metadata_keys=['file_name', 'file_type', 'file_size', 'creation_date', 'last_modified_date', 'last_accessed_date'], relationships={}, text='Provided proper attribution is provided, Google hereby grants permission to\\nreproduce the tables and figures in this paper solely for use in journalistic or\\nscholarly works.\\nAttention Is All You Need\\nAshish Vaswani∗\\nGoogle Brain\\navaswani@google.com\\nNoam Shazeer∗\\nGoogle Brain\\nnoam@google.com\\nNiki Parmar∗\\nGoogle Research\\nnikip@google.com\\nJakob Uszkoreit∗\\nGoogle Research\\nusz@google.com\\nLlion Jones∗\\nGoogle Research\\nllion@google.com\\nAidan N. Gomez∗ †\\nUniversity of Toronto\\naidan@cs.toronto.edu\\nŁukasz Kaiser∗\\nGoogle Brain\\nlukaszkaiser@google.com\\nIllia Polosukhin∗ ‡\\nillia.polosukhin@gmail.com\\nAbstract\\nThe dominant sequence transduction models are based on complex recurrent or\\nconvolutional neural networks that include an encoder and a decoder. The best\\nperforming models also connect the encoder and decoder through an attention\\nmechanism. We propose a new simple network architecture, the Transformer,\\nbased solely on attention mechanisms, dispensing with recurrence and convolutions\\nentirely. Experiments on two machine translation tasks show these models to\\nbe superior in quality while being more parallelizable and requiring significantly\\nless time to train. Our model achieves 28.4 BLEU on the WMT 2014 English-\\nto-German translation task, improving over the existing best results, including\\nensembles, by over 2 BLEU. On the WMT 2014 English-to-French translation task,\\nour model establishes a new single-model state-of-the-art BLEU score of 41.8 after\\ntraining for 3.5 days on eight GPUs, a small fraction of the training costs of the\\nbest models from the literature. We show that the Transformer generalizes well to\\nother tasks by applying it successfully to English constituency parsing both with\\nlarge and limited training data.\\n∗Equal contribution. Listing order is random. Jakob proposed replacing RNNs with self-attention and started\\nthe effort to evaluate this idea. Ashish, with Illia, designed and implemented the first Transformer models and\\nhas been crucially involved in every aspect of this work. Noam proposed scaled dot-product attention, multi-head\\nattention and the parameter-free position representation and became the other person involved in nearly every\\ndetail. Niki designed, implemented, tuned and evaluated countless model variants in our original codebase and\\ntensor2tensor. Llion also experimented with novel model variants, was responsible for our initial codebase, and\\nefficient inference and visualizations. Lukasz and Aidan spent countless long days designing various parts of and\\nimplementing tensor2tensor, replacing our earlier codebase, greatly improving results and massively accelerating\\nour research.\\n†Work performed while at Google Brain.\\n‡Work performed while at Google Research.\\n31st Conference on Neural Information Processing Systems (NIPS 2017), Long Beach, CA, USA.\\narXiv:1706.03762v7  [cs.CL]  2 Aug 2023', mimetype='text/plain', start_char_idx=None, end_char_idx=None, text_template='{metadata_str}\\n\\n{content}', metadata_template='{key}: {value}', metadata_seperator='\\n')"
      ]
     },
     "execution_count": 25,
     "metadata": {},
     "output_type": "execute_result"
    }
   ],
   "source": [
    "documents[0]"
   ]
  },
  {
   "cell_type": "code",
   "execution_count": 26,
   "metadata": {},
   "outputs": [],
   "source": [
    "splitter = SentenceSplitter(chunk_size=2048)\n",
    "nodes = splitter.get_nodes_from_documents(documents)"
   ]
  },
  {
   "cell_type": "code",
   "execution_count": 27,
   "metadata": {},
   "outputs": [],
   "source": [
    "summary_index = SummaryIndex(nodes)\n"
   ]
  },
  {
   "cell_type": "code",
   "execution_count": 28,
   "metadata": {},
   "outputs": [],
   "source": [
    "summary_query_engine = summary_index.as_query_engine(\n",
    "    response_mode = \"tree_summarize\",\n",
    "    use_async = True\n",
    ")"
   ]
  },
  {
   "cell_type": "code",
   "execution_count": 29,
   "metadata": {},
   "outputs": [],
   "source": [
    "response = summary_query_engine.query(\"Summarize the given document\")"
   ]
  },
  {
   "cell_type": "code",
   "execution_count": 30,
   "metadata": {},
   "outputs": [
    {
     "name": "stdout",
     "output_type": "stream",
     "text": [
      "<class 'llama_index.core.base.response.schema.Response'>\n"
     ]
    }
   ],
   "source": [
    "print(type(response))"
   ]
  },
  {
   "cell_type": "code",
   "execution_count": 31,
   "metadata": {},
   "outputs": [
    {
     "name": "stdout",
     "output_type": "stream",
     "text": [
      "A novel approach to sequence transduction models has been proposed, which achieves state-of-the-art results in machine translation and constituency parsing tasks. This new model, called the Transformer, relies entirely on self-attention mechanisms to draw global dependencies between input and output sequences. It consists of an encoder and a decoder, both composed of multiple identical layers, and uses multi-head attention in three different ways. The Transformer also introduces a new way of injecting information about the relative or absolute position of tokens in the sequence, called positional encoding. Experimental results show that the Transformer outperforms other models in terms of quality and training time, and generalizes well to other tasks.\n"
     ]
    }
   ],
   "source": [
    "print(response)"
   ]
  },
  {
   "cell_type": "code",
   "execution_count": 32,
   "metadata": {},
   "outputs": [],
   "source": [
    "response = summary_query_engine.query(\"Give a detailed summary of the given document\")"
   ]
  },
  {
   "cell_type": "code",
   "execution_count": 33,
   "metadata": {},
   "outputs": [
    {
     "name": "stdout",
     "output_type": "stream",
     "text": [
      "The document discusses a novel approach to sequence transduction models, specifically a model called the Transformer. This model uses self-attention mechanisms to process input sequences, eliminating the need for recurrence and convolution. The Transformer architecture consists of an encoder and a decoder, both composed of multiple identical layers. Each layer contains two sub-layers: a multi-head self-attention mechanism and a position-wise fully connected feed-forward network.\n",
      "\n",
      "The Transformer uses multi-head attention in three different ways: encoder-decoder attention, self-attention in the encoder, and self-attention in the decoder. The authors also introduce a new attention mechanism, called Scaled Dot-Product Attention, which is used in the Transformer. Additionally, the model uses positional encodings to inject information about the relative or absolute position of tokens in the sequence.\n",
      "\n",
      "The document presents experimental results on two machine translation tasks, showing that the Transformer achieves state-of-the-art results while being more parallelizable and requiring significantly less time to train. The authors also discuss the advantages of the Transformer over other models, such as its ability to learn dependencies between distant positions and its parallelization capabilities.\n",
      "\n",
      "The Transformer model is compared to other sequence transduction models, such as recurrent and convolutional layers, in terms of computational complexity, parallelization, and path length between long-range dependencies. The Transformer is found to be faster and more efficient than recurrent and convolutional layers, with a constant number of sequentially executed operations.\n",
      "\n",
      "The document also discusses the training regime for the Transformer, including the use of the Adam optimizer, label smoothing, and residual dropout. The authors report state-of-the-art results on the WMT 2014 English-to-German and English-to-French translation tasks, outperforming previous models at a fraction of the training cost.\n",
      "\n",
      "In addition, the document presents variations of the Transformer architecture, including changes to the number of attention heads, attention key and value dimensions, and dropout rates. The authors observe that bigger models are better and that dropout is helpful in avoiding over-fitting.\n",
      "\n",
      "The document also presents experiments on English constituency parsing, a task that presents specific challenges due to strong structural constraints and long output sequences. The authors report that the Transformer can generalize to this task and achieve state-of-the-art results.\n",
      "\n",
      "The authors also explored the effect of various hyperparameters on the model's performance, including the number of attention heads, the key size, and the dropout rate. They found that increasing the number of attention heads and the key size improved the model's performance, while increasing the dropout rate helped to prevent overfitting.\n",
      "\n",
      "Furthermore, the document provides a detailed analysis of the attention mechanism, including visualizations of the attention weights for a given input sequence. These visualizations showed that the attention mechanism is able to capture long-range dependencies in the input sequence and attend to relevant parts of the input.\n",
      "\n",
      "The authors also discussed the potential applications of the Transformer model, including its use in tasks such as language modeling, text summarization, and question answering. They also mentioned the possibility of extending the model to handle input and output modalities other than text, such as images and audio.\n",
      "\n",
      "Overall, the document presents a novel and powerful sequence transduction model that has the potential to revolutionize the field of natural language processing. The authors' experiments and analysis demonstrate the model's ability to handle long-range dependencies and generalize to other tasks, making it a promising tool for a wide range of applications.\n"
     ]
    }
   ],
   "source": [
    "print(response)"
   ]
  },
  {
   "cell_type": "code",
   "execution_count": null,
   "metadata": {},
   "outputs": [],
   "source": []
  }
 ],
 "metadata": {
  "kernelspec": {
   "display_name": "Python 3",
   "language": "python",
   "name": "python3"
  },
  "language_info": {
   "codemirror_mode": {
    "name": "ipython",
    "version": 3
   },
   "file_extension": ".py",
   "mimetype": "text/x-python",
   "name": "python",
   "nbconvert_exporter": "python",
   "pygments_lexer": "ipython3",
   "version": "3.11.3"
  }
 },
 "nbformat": 4,
 "nbformat_minor": 2
}
