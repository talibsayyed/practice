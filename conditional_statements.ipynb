{
 "cells": [
  {
   "cell_type": "code",
   "execution_count": 6,
   "metadata": {},
   "outputs": [
    {
     "name": "stdout",
     "output_type": "stream",
     "text": [
      "Youre not allowed to vote\n"
     ]
    }
   ],
   "source": [
    "age = int(input ('Enter your age'))\n",
    "if age>18:\n",
    "    print('You are allowed to vote')\n",
    "else:\n",
    "    print('Youre not allowed to vote')"
   ]
  },
  {
   "cell_type": "code",
   "execution_count": 12,
   "metadata": {},
   "outputs": [
    {
     "name": "stdout",
     "output_type": "stream",
     "text": [
      "You can vote\n"
     ]
    }
   ],
   "source": [
    "Age = int(input('Enter your age'))\n",
    "\n",
    "if Age<13:\n",
    "    print('Youre a minor')\n",
    "elif Age<18:\n",
    "    print('Youre a teenager')\n",
    "else:\n",
    "    print('You can vote')"
   ]
  },
  {
   "cell_type": "code",
   "execution_count": 21,
   "metadata": {},
   "outputs": [
    {
     "name": "stdout",
     "output_type": "stream",
     "text": [
      "The number provided by you is -5\n",
      "Its a zero or negative number\n"
     ]
    }
   ],
   "source": [
    "num = int(input('Enter a number'))\n",
    "print('The number provided by you is',num)\n",
    "\n",
    "if num>0:\n",
    "    print('Its a positive number')\n",
    "    if num%2==0:\n",
    "        print('The number is even')\n",
    "    else:\n",
    "        print('The number is odd')\n",
    "else:\n",
    "    print('Its a zero or negative number')"
   ]
  },
  {
   "cell_type": "code",
   "execution_count": 23,
   "metadata": {},
   "outputs": [
    {
     "name": "stdout",
     "output_type": "stream",
     "text": [
      "Its a leap year\n"
     ]
    }
   ],
   "source": [
    "#leap year hai ya nhi\n",
    "year = int(input('Enter the year'))\n",
    "\n",
    "if year%4==0:\n",
    "    print('Its a leap year')\n",
    "else:\n",
    "    print('Normal year, not a leap year')"
   ]
  },
  {
   "cell_type": "code",
   "execution_count": 29,
   "metadata": {},
   "outputs": [
    {
     "name": "stdout",
     "output_type": "stream",
     "text": [
      "Your age is 18\n",
      "And you're not a student so\n",
      "Ticket price 25$\n"
     ]
    }
   ],
   "source": [
    "#ticket price \n",
    "age = int(input('Enter your age'))\n",
    "is_student = input('Are you a Student, Yes/no').lower()\n",
    "\n",
    "if age < 5:\n",
    "    price = 'Free'\n",
    "elif age <= 12:\n",
    "    price = '10$'\n",
    "elif age<= 17:\n",
    "    if is_student == 'yes':\n",
    "        price = '12$'\n",
    "    else:\n",
    "        price ='15$'\n",
    "elif age <= 64:\n",
    "    if is_student == 'yes':\n",
    "        price = '15$'\n",
    "    else:\n",
    "        price = '25$'\n",
    "else:\n",
    "    price = '20$'\n",
    "\n",
    "print('Your age is',age)\n",
    "if is_student == 'yes':\n",
    "    print(\"And you're a student so\")\n",
    "else:\n",
    "    print(\"And you're not a student so\")\n",
    "print('Ticket price',price)"
   ]
  },
  {
   "cell_type": "code",
   "execution_count": null,
   "metadata": {},
   "outputs": [],
   "source": []
  }
 ],
 "metadata": {
  "kernelspec": {
   "display_name": "base",
   "language": "python",
   "name": "python3"
  },
  "language_info": {
   "codemirror_mode": {
    "name": "ipython",
    "version": 3
   },
   "file_extension": ".py",
   "mimetype": "text/x-python",
   "name": "python",
   "nbconvert_exporter": "python",
   "pygments_lexer": "ipython3",
   "version": "3.11.7"
  }
 },
 "nbformat": 4,
 "nbformat_minor": 2
}
