{
 "cells": [
  {
   "cell_type": "code",
   "execution_count": 6,
   "metadata": {},
   "outputs": [
    {
     "name": "stdout",
     "output_type": "stream",
     "text": [
      "1\n"
     ]
    }
   ],
   "source": [
    "def binary_search(arr,target):\n",
    "    size = len(arr)-1\n",
    "    start = 0\n",
    "    end = size-1\n",
    "    \n",
    "    while(start <= end):\n",
    "        mid = (start+end)//2\n",
    "\n",
    "        if(arr[mid]==target):\n",
    "            return mid\n",
    "        elif (arr[mid]>target):\n",
    "            end = mid-1\n",
    "        elif (arr[mid]<target):\n",
    "            start = mid+1\n",
    "    return -1      \n",
    "\n",
    "\n",
    "sorted = [10,23,34,45,67,87,96]\n",
    "target = 23\n",
    "\n",
    "result = binary_search(sorted,target)\n",
    "print(result)"
   ]
  },
  {
   "cell_type": "code",
   "execution_count": null,
   "metadata": {},
   "outputs": [],
   "source": []
  }
 ],
 "metadata": {
  "kernelspec": {
   "display_name": "base",
   "language": "python",
   "name": "python3"
  },
  "language_info": {
   "codemirror_mode": {
    "name": "ipython",
    "version": 3
   },
   "file_extension": ".py",
   "mimetype": "text/x-python",
   "name": "python",
   "nbconvert_exporter": "python",
   "pygments_lexer": "ipython3",
   "version": "3.11.7"
  }
 },
 "nbformat": 4,
 "nbformat_minor": 2
}
