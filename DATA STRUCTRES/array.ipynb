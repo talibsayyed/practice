{
 "cells": [
  {
   "cell_type": "code",
   "execution_count": 1,
   "metadata": {},
   "outputs": [
    {
     "name": "stdout",
     "output_type": "stream",
     "text": [
      "array('i', [1, 2, 3, 4, 5])\n"
     ]
    }
   ],
   "source": [
    "import array \n",
    "\n",
    "arr = array.array('i',[1,2,3,4,5])\n",
    "print(arr)"
   ]
  },
  {
   "cell_type": "code",
   "execution_count": 2,
   "metadata": {},
   "outputs": [
    {
     "name": "stdout",
     "output_type": "stream",
     "text": [
      "array('i', [10, 2, 3, 4, 5])\n"
     ]
    }
   ],
   "source": [
    "arr[0] = 10\n",
    "print(arr)"
   ]
  },
  {
   "cell_type": "code",
   "execution_count": 6,
   "metadata": {},
   "outputs": [
    {
     "name": "stdout",
     "output_type": "stream",
     "text": [
      "2\n"
     ]
    }
   ],
   "source": [
    "## Linear Search\n",
    "\n",
    "def linear_search(arr,target):\n",
    "    size = len(arr)\n",
    "    for index in range(0,size):\n",
    "        if (arr[index]==target):\n",
    "            return index\n",
    "    return -1\n",
    "\n",
    "my_list = [9,23,51,86,72,96]\n",
    "target = 51\n",
    "\n",
    "result = linear_search(my_list,target)\n",
    "print(result)"
   ]
  },
  {
   "cell_type": "code",
   "execution_count": 10,
   "metadata": {},
   "outputs": [
    {
     "name": "stdout",
     "output_type": "stream",
     "text": [
      "5\n"
     ]
    }
   ],
   "source": [
    "def linear_search2(arr,target):\n",
    "    size=len(arr)\n",
    "    for i in range(0,size):\n",
    "        if (arr[i]==target):\n",
    "            return i\n",
    "        \n",
    "    return -1\n",
    "\n",
    "my_list = [9,23,51,44,23,86,72,96]\n",
    "target = 86\n",
    "result = linear_search2(my_list,target)\n",
    "print(result)"
   ]
  },
  {
   "cell_type": "code",
   "execution_count": null,
   "metadata": {},
   "outputs": [],
   "source": []
  }
 ],
 "metadata": {
  "kernelspec": {
   "display_name": "base",
   "language": "python",
   "name": "python3"
  },
  "language_info": {
   "codemirror_mode": {
    "name": "ipython",
    "version": 3
   },
   "file_extension": ".py",
   "mimetype": "text/x-python",
   "name": "python",
   "nbconvert_exporter": "python",
   "pygments_lexer": "ipython3",
   "version": "3.11.7"
  }
 },
 "nbformat": 4,
 "nbformat_minor": 2
}
