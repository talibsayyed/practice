{
 "cells": [
  {
   "cell_type": "markdown",
   "metadata": {},
   "source": [
    "# Real world examples using list in Python \n",
    "List are one of the most commonly used data structres in Python, thanks to their versatility and ease of use.\n",
    "Here are several practical examples that illustrate their use in real world scenarios."
   ]
  },
  {
   "cell_type": "markdown",
   "metadata": {},
   "source": [
    "## Example 1. Manage a todo list "
   ]
  },
  {
   "cell_type": "code",
   "execution_count": 6,
   "metadata": {},
   "outputs": [
    {
     "name": "stdout",
     "output_type": "stream",
     "text": [
      "Dont forget to pay the utility bills\n",
      "Todo list remaining\n",
      "-Buy Groceries\n",
      "-Pay bills\n",
      "-Schedule Meeting\n",
      "-Go for a run\n"
     ]
    }
   ],
   "source": [
    "todo_list=['Buy Groceries','Clean the house','Pay bills']\n",
    "\n",
    "#adding some more tasks\n",
    "todo_list.append('Schedule Meeting')\n",
    "todo_list.append('Go for a run')\n",
    "\n",
    "#remove the completed task\n",
    "todo_list.remove('Clean the house')\n",
    "\n",
    "#checking if a task in the list\n",
    "if 'Pay bills' in todo_list:\n",
    "    print('Dont forget to pay the utility bills')\n",
    "\n",
    "print('Todo list remaining')\n",
    "\n",
    "for i in todo_list:\n",
    "    print(f'-{i}')"
   ]
  },
  {
   "cell_type": "markdown",
   "metadata": {},
   "source": [
    "## Organizing Students Grades"
   ]
  },
  {
   "cell_type": "code",
   "execution_count": 11,
   "metadata": {},
   "outputs": [
    {
     "name": "stdout",
     "output_type": "stream",
     "text": [
      "Average Grades 72.86\n",
      "The highest grade is 96\n",
      "The lowest grade is 35\n"
     ]
    }
   ],
   "source": [
    "# Organizing students grades\n",
    "grades=[85,55,35,90,68,81]\n",
    "\n",
    "#adding a new grade\n",
    "grades.append(96)\n",
    "\n",
    "#calculating the average grade\n",
    "avg = sum(grades) / len(grades)\n",
    "print(f\"Average Grades {avg:.2f}\")\n",
    "\n",
    "#Find the highest and lowest\n",
    "\n",
    "highest = max(grades)\n",
    "lowest = min(grades)\n",
    "print(f\"The highest grade is {highest}\")\n",
    "print(f\"The lowest grade is {lowest}\")\n",
    "\n",
    "\n"
   ]
  },
  {
   "cell_type": "markdown",
   "metadata": {},
   "source": [
    "## Managing an Inventory"
   ]
  },
  {
   "cell_type": "code",
   "execution_count": 14,
   "metadata": {},
   "outputs": [
    {
     "name": "stdout",
     "output_type": "stream",
     "text": [
      "appe Is out of stock\n",
      "Inventory list:\n",
      "- apple\n",
      "- oranges\n",
      "- grapes\n",
      "- Strawberries\n"
     ]
    }
   ],
   "source": [
    "#creating an inventory\n",
    "inventory=['apple','bananas','oranges','grapes']\n",
    "\n",
    "#adding a new item\n",
    "inventory.append('Strawberries')\n",
    "\n",
    "#Removing and item that is out of stock\n",
    "inventory.remove('bananas')\n",
    "\n",
    "#Checking if an item is in stock or not\n",
    "item = input('Enter an item to check availability').lower()\n",
    "if item in inventory:\n",
    "    print(f\"{item} Is in stock\")\n",
    "else:\n",
    "    print(f\"{item} Is out of stock\")\n",
    "\n",
    "#printing the inventory\n",
    "print(\"Inventory list:\")\n",
    "for item in inventory:\n",
    "    print(f\"- {item}\")\n"
   ]
  },
  {
   "cell_type": "markdown",
   "metadata": {},
   "source": [
    "## Collecting user feedback"
   ]
  },
  {
   "cell_type": "code",
   "execution_count": 19,
   "metadata": {},
   "outputs": [
    {
     "name": "stdout",
     "output_type": "stream",
     "text": [
      "Positive Feedback Count:2\n",
      "Negative Feedback Count:2\n",
      "User feedback\n",
      "-Great service!\n",
      "-Very satisfied\n",
      "-Could be better\n",
      "-Excellent Experience\n",
      "-not happy with the service\n"
     ]
    }
   ],
   "source": [
    "#collecting user feedback \n",
    "feedback=[\"Great service!\",\"Very satisfied\",\"Could be better\",\"Excellent Experience\"]\n",
    "\n",
    "#adding a new feedback\n",
    "feedback.append(\"not happy with the service\")\n",
    "\n",
    "#counting specific feedback\n",
    "positive_fb_cnt = sum(1 for comment in feedback if \"great\" in comment.lower() or \"excellent\" in comment.lower())\n",
    "print(f\"Positive Feedback Count:{positive_fb_cnt}\")\n",
    "\n",
    "neagtive_fb_cnt = sum(1 for comment in feedback if \"not happy\" in comment.lower() or \"Could be\" in comment)\n",
    "print(f\"Negative Feedback Count:{neagtive_fb_cnt}\")\n",
    "\n",
    "#Printing all feedback\n",
    "print(\"User feedback\")\n",
    "for comment in feedback:\n",
    "    print(f\"-{comment}\")\n"
   ]
  },
  {
   "cell_type": "code",
   "execution_count": null,
   "metadata": {},
   "outputs": [],
   "source": []
  }
 ],
 "metadata": {
  "kernelspec": {
   "display_name": "base",
   "language": "python",
   "name": "python3"
  },
  "language_info": {
   "codemirror_mode": {
    "name": "ipython",
    "version": 3
   },
   "file_extension": ".py",
   "mimetype": "text/x-python",
   "name": "python",
   "nbconvert_exporter": "python",
   "pygments_lexer": "ipython3",
   "version": "3.11.7"
  }
 },
 "nbformat": 4,
 "nbformat_minor": 2
}
